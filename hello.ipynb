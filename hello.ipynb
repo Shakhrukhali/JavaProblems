{
  "nbformat": 4,
  "nbformat_minor": 0,
  "metadata": {
    "colab": {
      "provenance": [],
      "mount_file_id": "1cGuUoRL0NLcTKbSg4e29-8WexWW44qhm",
      "authorship_tag": "ABX9TyNz3GUx+2ylPNUt8aK4Focn",
      "include_colab_link": true
    },
    "kernelspec": {
      "name": "python3",
      "display_name": "Python 3"
    },
    "language_info": {
      "name": "python"
    }
  },
  "cells": [
    {
      "cell_type": "markdown",
      "metadata": {
        "id": "view-in-github",
        "colab_type": "text"
      },
      "source": [
        "<a href=\"https://colab.research.google.com/github/Shakhrukhali/JavaProblems/blob/main/hello.ipynb\" target=\"_parent\"><img src=\"https://colab.research.google.com/assets/colab-badge.svg\" alt=\"Open In Colab\"/></a>"
      ]
    },
    {
      "cell_type": "code",
      "execution_count": null,
      "metadata": {
        "colab": {
          "base_uri": "https://localhost:8080/"
        },
        "id": "NnjuvXsxtlIM",
        "outputId": "ce22bb65-feae-447f-97ac-bb4230809587"
      },
      "outputs": [
        {
          "output_type": "stream",
          "name": "stdout",
          "text": [
            "salom\n"
          ]
        }
      ],
      "source": [
        "print('salom')"
      ]
    },
    {
      "cell_type": "code",
      "source": [],
      "metadata": {
        "id": "Jca0cRUctuud"
      },
      "execution_count": null,
      "outputs": []
    }
  ]
}